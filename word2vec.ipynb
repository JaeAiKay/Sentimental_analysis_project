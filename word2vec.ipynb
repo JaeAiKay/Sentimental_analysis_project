{
 "cells": [
  {
   "cell_type": "code",
   "execution_count": 26,
   "metadata": {},
   "outputs": [],
   "source": [
    "import numpy as np\n",
    "import string\n",
    "from nltk.corpus import stopwords\n",
    "import csv\n",
    "import pandas as pd"
   ]
  },
  {
   "cell_type": "code",
   "execution_count": 27,
   "metadata": {},
   "outputs": [],
   "source": [
    "url = \"./datasets/pre_processed_dataset.csv\"\n",
    "names = [\"tweet\"]\n",
    "data = pd.read_csv(url,names=names)\n",
    "data = data.drop(data.index[0])"
   ]
  },
  {
   "cell_type": "code",
   "execution_count": 28,
   "metadata": {},
   "outputs": [
    {
     "data": {
      "text/plain": [
       "['never',\n",
       " 'know',\n",
       " 'another',\n",
       " 'concern',\n",
       " 'farmed',\n",
       " 'salmon',\n",
       " 'gmo',\n",
       " 'farmed',\n",
       " 'frankenfish']"
      ]
     },
     "execution_count": 28,
     "metadata": {},
     "output_type": "execute_result"
    }
   ],
   "source": [
    "from nltk.tokenize import word_tokenize\n",
    "import nltk\n",
    "\n",
    "sentences = data.tweet\n",
    "\n",
    "stop_words = nltk.corpus.stopwords.words('english')\n",
    "data_set_tokenized = []\n",
    "\n",
    "for i in sentences:\n",
    "    word_tokens = word_tokenize(i)\n",
    "    filtered_sentence = [w for w in word_tokens if not w.lower() in stop_words]\n",
    "    data_set_tokenized.append(filtered_sentence)\n",
    "\n",
    "data_set_tokenized[0]\n",
    "# filtered_sentence"
   ]
  },
  {
   "attachments": {},
   "cell_type": "markdown",
   "metadata": {},
   "source": [
    "## Word2Vec with skipgramc"
   ]
  },
  {
   "cell_type": "code",
   "execution_count": 29,
   "metadata": {},
   "outputs": [],
   "source": [
    "from gensim.test.utils import common_texts, get_tmpfile\n",
    "from gensim.models import Word2Vec\n",
    "from gensim.models.callbacks import CallbackAny2Vec\n"
   ]
  },
  {
   "cell_type": "code",
   "execution_count": 30,
   "metadata": {},
   "outputs": [],
   "source": [
    "\n",
    "class callback(CallbackAny2Vec):\n",
    "    '''Callback to print loss after each epoch.'''\n",
    "\n",
    "    def __init__(self):\n",
    "        self.epoch = 0\n",
    "\n",
    "    def on_epoch_end(self, model):\n",
    "        loss = model.get_latest_training_loss()\n",
    "        print('Loss after epoch {}: {}'.format(self.epoch, loss))\n",
    "        self.epoch += 1\n"
   ]
  },
  {
   "cell_type": "code",
   "execution_count": 31,
   "metadata": {},
   "outputs": [],
   "source": [
    "from gensim.test.utils import common_texts, get_tmpfile\n",
    "from gensim.models import Word2Vec\n",
    "from gensim.models.callbacks import CallbackAny2Vec\n",
    "\n",
    "class callback(CallbackAny2Vec):\n",
    "    '''Callback to print loss after each epoch.'''\n",
    "\n",
    "    def __init__(self):\n",
    "        self.epoch = 0\n",
    "\n",
    "    def on_epoch_end(self, model):\n",
    "        loss = model.get_latest_training_loss()\n",
    "        print('Loss after epoch {}: {}'.format(self.epoch, loss))\n",
    "        self.epoch += 1\n"
   ]
  },
  {
   "cell_type": "code",
   "execution_count": 32,
   "metadata": {},
   "outputs": [
    {
     "name": "stdout",
     "output_type": "stream",
     "text": [
      "Loss after epoch 0: 4484.88134765625\n",
      "Loss after epoch 1: 9166.8349609375\n",
      "Loss after epoch 2: 14294.6611328125\n",
      "Loss after epoch 3: 19074.94921875\n",
      "Loss after epoch 4: 24340.212890625\n"
     ]
    }
   ],
   "source": [
    "skip_gram_model = Word2Vec(sentences=data_set_tokenized, vector_size=100, window=5, min_count=4, workers=2, epochs=5, sg=1,\n",
    "        compute_loss=True, callbacks=[callback()])"
   ]
  },
  {
   "cell_type": "code",
   "execution_count": 33,
   "metadata": {},
   "outputs": [
    {
     "data": {
      "text/plain": [
       "[('war', 0.3227420151233673),\n",
       " ('chemicals', 0.24044738709926605),\n",
       " ('amp', 0.2135903537273407),\n",
       " ('news', 0.20882479846477509),\n",
       " ('scientists', 0.2075941264629364),\n",
       " ('seeds', 0.2042963057756424),\n",
       " ('gmo', 0.2026502937078476),\n",
       " ('say', 0.20226021111011505),\n",
       " ('complete', 0.2018624246120453),\n",
       " ('herbicide', 0.19491374492645264)]"
      ]
     },
     "execution_count": 33,
     "metadata": {},
     "output_type": "execute_result"
    }
   ],
   "source": [
    "skip_gram_model.wv.most_similar('crop',topn=10)"
   ]
  },
  {
   "cell_type": "code",
   "execution_count": 34,
   "metadata": {},
   "outputs": [
    {
     "data": {
      "text/plain": [
       "[('complete', 0.5709086060523987),\n",
       " ('amp', 0.5685555338859558),\n",
       " ('africa', 0.547189474105835),\n",
       " ('liver', 0.5244296789169312),\n",
       " ('mineral', 0.5101735591888428),\n",
       " ('people', 0.5075904130935669),\n",
       " ('fertilizer', 0.49014922976493835),\n",
       " ('homeloan', 0.4868205785751343),\n",
       " ('new', 0.4725566804409027),\n",
       " ('genetic', 0.4709470570087433)]"
      ]
     },
     "execution_count": 34,
     "metadata": {},
     "output_type": "execute_result"
    }
   ],
   "source": [
    "skip_gram_model.wv.most_similar('gmo',topn=10)"
   ]
  },
  {
   "cell_type": "code",
   "execution_count": 35,
   "metadata": {},
   "outputs": [
    {
     "data": {
      "text/plain": [
       "[('humans', 0.4742598831653595),\n",
       " ('amp', 0.43114569783210754),\n",
       " ('pesticides', 0.4251401126384735),\n",
       " ('gmo', 0.4157561957836151),\n",
       " ('human', 0.3899383246898651),\n",
       " ('potential', 0.38027453422546387),\n",
       " ('mineral', 0.3507687449455261),\n",
       " ('africa', 0.3484934866428375),\n",
       " ('stop', 0.33811092376708984),\n",
       " ('fertilizer', 0.3309765160083771)]"
      ]
     },
     "execution_count": 35,
     "metadata": {},
     "output_type": "execute_result"
    }
   ],
   "source": [
    "skip_gram_model.wv.most_similar('corn',topn=10)"
   ]
  },
  {
   "attachments": {},
   "cell_type": "markdown",
   "metadata": {},
   "source": [
    "## Word2Vec with CBOW"
   ]
  },
  {
   "cell_type": "code",
   "execution_count": 36,
   "metadata": {},
   "outputs": [
    {
     "name": "stdout",
     "output_type": "stream",
     "text": [
      "Loss after epoch 0: 2229.346923828125\n",
      "Loss after epoch 1: 4533.95263671875\n",
      "Loss after epoch 2: 6897.97509765625\n",
      "Loss after epoch 3: 9148.1650390625\n",
      "Loss after epoch 4: 11455.7548828125\n"
     ]
    }
   ],
   "source": [
    "cbow_model = Word2Vec(sentences=data_set_tokenized, vector_size=100, window=10, min_count=4, workers=2, epochs=5, sg=0,\n",
    "        compute_loss=True, callbacks=[callback()])"
   ]
  },
  {
   "cell_type": "code",
   "execution_count": 37,
   "metadata": {},
   "outputs": [
    {
     "data": {
      "text/plain": [
       "[('war', 0.3049982786178589),\n",
       " ('chemicals', 0.21580922603607178),\n",
       " ('labeling', 0.20013035833835602),\n",
       " ('news', 0.1575966775417328),\n",
       " ('say', 0.15510551631450653),\n",
       " ('also', 0.15459318459033966),\n",
       " ('herbicide', 0.1451404094696045),\n",
       " ('seeds', 0.1409464329481125),\n",
       " ('scientists', 0.1345074325799942),\n",
       " ('chestnut', 0.13428443670272827)]"
      ]
     },
     "execution_count": 37,
     "metadata": {},
     "output_type": "execute_result"
    }
   ],
   "source": [
    "cbow_model.wv.most_similar('crop',topn=10)"
   ]
  },
  {
   "attachments": {},
   "cell_type": "markdown",
   "metadata": {},
   "source": [
    "## LSTM"
   ]
  },
  {
   "cell_type": "code",
   "execution_count": null,
   "metadata": {},
   "outputs": [],
   "source": []
  }
 ],
 "metadata": {
  "kernelspec": {
   "display_name": "Python 3",
   "language": "python",
   "name": "python3"
  },
  "language_info": {
   "codemirror_mode": {
    "name": "ipython",
    "version": 3
   },
   "file_extension": ".py",
   "mimetype": "text/x-python",
   "name": "python",
   "nbconvert_exporter": "python",
   "pygments_lexer": "ipython3",
   "version": "3.11.0"
  },
  "orig_nbformat": 4,
  "vscode": {
   "interpreter": {
    "hash": "5238573367df39f7286bb46f9ff5f08f63a01a80960060ce41e3c79b190280fa"
   }
  }
 },
 "nbformat": 4,
 "nbformat_minor": 2
}
