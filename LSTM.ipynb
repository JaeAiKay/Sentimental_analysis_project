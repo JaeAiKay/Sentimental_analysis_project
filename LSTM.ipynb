{
 "cells": [
  {
   "cell_type": "code",
   "execution_count": 2312,
   "metadata": {},
   "outputs": [],
   "source": [
    "import keras\n",
    "from keras.models import Sequential\n",
    "from keras.layers import Input, CuDNNLSTM, Dense, Bidirectional, Dropout\n",
    "from keras.layers import Embedding\n",
    "import keras.backend as K\n",
    "\n",
    "import numpy as np\n",
    "import string\n",
    "import csv\n",
    "import pandas as pd\n",
    "import nltk\n",
    "from nltk.tokenize import word_tokenize\n",
    "\n",
    "import matplotlib.pyplot as plt\n",
    "import random\n"
   ]
  },
  {
   "cell_type": "code",
   "execution_count": 2313,
   "metadata": {},
   "outputs": [],
   "source": [
    "url = \"./datasets/pre_processed_dataset.csv\"\n",
    "names = [\"tweet\", \"label\"]\n",
    "data = pd.read_csv(url,names=names)\n",
    "data = data.drop(data.index[0])\n",
    "data = data.sample(frac = 1)"
   ]
  },
  {
   "cell_type": "code",
   "execution_count": 2314,
   "metadata": {},
   "outputs": [],
   "source": [
    "X = data['tweet']\n",
    "y = data['label']"
   ]
  },
  {
   "cell_type": "code",
   "execution_count": 2315,
   "metadata": {},
   "outputs": [
    {
     "name": "stderr",
     "output_type": "stream",
     "text": [
      "C:\\Users\\USER\\AppData\\Local\\Temp\\ipykernel_11916\\4066623601.py:1: SettingWithCopyWarning: \n",
      "A value is trying to be set on a copy of a slice from a DataFrame\n",
      "\n",
      "See the caveats in the documentation: https://pandas.pydata.org/pandas-docs/stable/user_guide/indexing.html#returning-a-view-versus-a-copy\n",
      "  y[y == 0] = 1\n"
     ]
    }
   ],
   "source": [
    "y[y == 0] = 1"
   ]
  },
  {
   "cell_type": "code",
   "execution_count": 2316,
   "metadata": {},
   "outputs": [
    {
     "name": "stderr",
     "output_type": "stream",
     "text": [
      "C:\\Users\\USER\\AppData\\Local\\Temp\\ipykernel_11916\\3153561895.py:1: SettingWithCopyWarning: \n",
      "A value is trying to be set on a copy of a slice from a DataFrame\n",
      "\n",
      "See the caveats in the documentation: https://pandas.pydata.org/pandas-docs/stable/user_guide/indexing.html#returning-a-view-versus-a-copy\n",
      "  y[y == -1] = 0\n"
     ]
    }
   ],
   "source": [
    "y[y == -1] = 0"
   ]
  },
  {
   "cell_type": "code",
   "execution_count": 2317,
   "metadata": {},
   "outputs": [],
   "source": [
    "num_classes = 1"
   ]
  },
  {
   "attachments": {},
   "cell_type": "markdown",
   "metadata": {},
   "source": [
    "# Vectorization"
   ]
  },
  {
   "cell_type": "code",
   "execution_count": 2318,
   "metadata": {},
   "outputs": [],
   "source": [
    "from keras.preprocessing.text import Tokenizer\n",
    "from keras.utils import pad_sequences"
   ]
  },
  {
   "cell_type": "code",
   "execution_count": 2319,
   "metadata": {},
   "outputs": [],
   "source": [
    "# หาความยาวสูงสุดของ senence ใน tweets\n",
    "max_length = max([len(word_tokenize(i)) for i in X])"
   ]
  },
  {
   "cell_type": "code",
   "execution_count": 2320,
   "metadata": {},
   "outputs": [],
   "source": [
    "tokenizer = Tokenizer()\n",
    "tokenizer.fit_on_texts(X)"
   ]
  },
  {
   "cell_type": "code",
   "execution_count": 2321,
   "metadata": {},
   "outputs": [
    {
     "name": "stdout",
     "output_type": "stream",
     "text": [
      "Found 2078 unique tokens.\n"
     ]
    }
   ],
   "source": [
    "vocab_size = len(tokenizer.word_index) + 1\n",
    "print('Found %s unique tokens.' %(vocab_size))"
   ]
  },
  {
   "cell_type": "code",
   "execution_count": 2322,
   "metadata": {},
   "outputs": [],
   "source": [
    "# integer encode the tweets\n",
    "x_sequences = tokenizer.texts_to_sequences(X)"
   ]
  },
  {
   "cell_type": "code",
   "execution_count": 2323,
   "metadata": {},
   "outputs": [],
   "source": [
    "# # encode the label\n",
    "# y = keras.utils.to_categorical(y, num_classes)"
   ]
  },
  {
   "cell_type": "code",
   "execution_count": 2324,
   "metadata": {},
   "outputs": [],
   "source": [
    "X = pad_sequences(x_sequences, maxlen=max_length)"
   ]
  },
  {
   "cell_type": "markdown",
   "metadata": {},
   "source": [
    "# Split data"
   ]
  },
  {
   "cell_type": "code",
   "execution_count": 2325,
   "metadata": {},
   "outputs": [],
   "source": [
    "from sklearn.model_selection import train_test_split\n",
    "x_train, x_test, y_train, y_test = train_test_split(X, y, test_size=0.15)"
   ]
  },
  {
   "cell_type": "code",
   "execution_count": 2326,
   "metadata": {},
   "outputs": [
    {
     "data": {
      "text/plain": [
       "((214, 51), (214,), (38, 51), (38,))"
      ]
     },
     "execution_count": 2326,
     "metadata": {},
     "output_type": "execute_result"
    }
   ],
   "source": [
    "x_train.shape, y_train.shape, x_test.shape, y_test.shape"
   ]
  },
  {
   "cell_type": "code",
   "execution_count": 2327,
   "metadata": {},
   "outputs": [],
   "source": [
    "def plot_loss_accuracy(history):\n",
    "    fig = plt.figure(figsize=(12, 6))\n",
    "    ax = fig.add_subplot(1, 2, 1)\n",
    "    ax.plot(history.history[\"loss\"],'r-x', label=\"Train Loss\")\n",
    "    ax.plot(history.history[\"val_loss\"],'b-x', label=\"Validation Loss\")\n",
    "    ax.legend()\n",
    "    ax.set_title('cross_entropy loss')\n",
    "    ax.grid(True)\n",
    "\n",
    "\n",
    "    ax = fig.add_subplot(1, 2, 2)\n",
    "    ax.plot(history.history[\"accuracy\"],'r-x', label=\"Train Accuracy\")\n",
    "    ax.plot(history.history[\"val_accuracy\"],'b-x', label=\"Validation Accuracy\")\n",
    "    ax.legend()\n",
    "    ax.set_title('accuracy')\n",
    "    ax.grid(True)"
   ]
  },
  {
   "cell_type": "code",
   "execution_count": 2328,
   "metadata": {},
   "outputs": [
    {
     "data": {
      "text/plain": [
       "((214, 51), (214,), (38, 51), (38,))"
      ]
     },
     "execution_count": 2328,
     "metadata": {},
     "output_type": "execute_result"
    }
   ],
   "source": [
    "x_train.shape, y_train.shape, x_test.shape, y_test.shape"
   ]
  },
  {
   "attachments": {},
   "cell_type": "markdown",
   "metadata": {},
   "source": [
    "# LSTM"
   ]
  },
  {
   "cell_type": "markdown",
   "metadata": {},
   "source": [
    "##### set parameter"
   ]
  },
  {
   "cell_type": "code",
   "execution_count": 2329,
   "metadata": {},
   "outputs": [],
   "source": [
    "epochs=15\n",
    "batch_size=10"
   ]
  },
  {
   "attachments": {},
   "cell_type": "markdown",
   "metadata": {},
   "source": [
    "## Create model 1"
   ]
  },
  {
   "cell_type": "code",
   "execution_count": 2330,
   "metadata": {},
   "outputs": [],
   "source": [
    "model = Sequential([\n",
    "    Embedding(vocab_size, 32, input_length=max_length),\n",
    "    CuDNNLSTM(64, return_sequences=True),\n",
    "\n",
    "    CuDNNLSTM(64),\n",
    "\n",
    "    Dense(128, activation='relu'),\n",
    "    Dropout(0.2),\n",
    "    Dense(num_classes,activation='sigmoid')\n",
    "])"
   ]
  },
  {
   "cell_type": "code",
   "execution_count": 2331,
   "metadata": {},
   "outputs": [],
   "source": [
    "# model.compile(loss=['categorical_crossentropy'], optimizer='adam', metrics=['accuracy'])"
   ]
  },
  {
   "cell_type": "code",
   "execution_count": 2332,
   "metadata": {},
   "outputs": [
    {
     "name": "stderr",
     "output_type": "stream",
     "text": [
      "c:\\Users\\USER\\anaconda3\\envs\\envtf\\lib\\site-packages\\keras\\optimizers\\optimizer_v2\\rmsprop.py:140: UserWarning: The `lr` argument is deprecated, use `learning_rate` instead.\n",
      "  super().__init__(name, **kwargs)\n"
     ]
    }
   ],
   "source": [
    "rmsprop = keras.optimizers.RMSprop(lr = .001)\n",
    "\n",
    "model.compile(loss='binary_crossentropy',\n",
    "              optimizer='adam',\n",
    "              metrics=['accuracy'])"
   ]
  },
  {
   "cell_type": "code",
   "execution_count": 2333,
   "metadata": {},
   "outputs": [
    {
     "name": "stdout",
     "output_type": "stream",
     "text": [
      "Model: \"sequential_188\"\n",
      "_________________________________________________________________\n",
      " Layer (type)                Output Shape              Param #   \n",
      "=================================================================\n",
      " embedding_191 (Embedding)   (None, 51, 32)            66496     \n",
      "                                                                 \n",
      " cu_dnnlstm_387 (CuDNNLSTM)  (None, 51, 64)            25088     \n",
      "                                                                 \n",
      " cu_dnnlstm_388 (CuDNNLSTM)  (None, 64)                33280     \n",
      "                                                                 \n",
      " dense_380 (Dense)           (None, 128)               8320      \n",
      "                                                                 \n",
      " dropout_458 (Dropout)       (None, 128)               0         \n",
      "                                                                 \n",
      " dense_381 (Dense)           (None, 1)                 129       \n",
      "                                                                 \n",
      "=================================================================\n",
      "Total params: 133,313\n",
      "Trainable params: 133,313\n",
      "Non-trainable params: 0\n",
      "_________________________________________________________________\n"
     ]
    }
   ],
   "source": [
    "model.summary()"
   ]
  },
  {
   "cell_type": "code",
   "execution_count": 2334,
   "metadata": {},
   "outputs": [],
   "source": [
    "# from keras.callbacks import EarlyStopping\n",
    "# es = EarlyStopping(monitor='val_loss', mode='min', verbose=5, patience=4)"
   ]
  },
  {
   "attachments": {},
   "cell_type": "markdown",
   "metadata": {},
   "source": [
    "## train model1"
   ]
  },
  {
   "cell_type": "code",
   "execution_count": 2335,
   "metadata": {},
   "outputs": [
    {
     "name": "stdout",
     "output_type": "stream",
     "text": [
      "Epoch 1/15\n",
      "22/22 [==============================] - 2s 35ms/step - loss: 0.6951 - accuracy: 0.4766 - val_loss: 0.6928 - val_accuracy: 0.6053\n",
      "Epoch 2/15\n",
      "22/22 [==============================] - 0s 14ms/step - loss: 0.6943 - accuracy: 0.4673 - val_loss: 0.6947 - val_accuracy: 0.4737\n",
      "Epoch 3/15\n",
      "22/22 [==============================] - 0s 16ms/step - loss: 0.6870 - accuracy: 0.6636 - val_loss: 0.6897 - val_accuracy: 0.5789\n",
      "Epoch 4/15\n",
      "22/22 [==============================] - 0s 13ms/step - loss: 0.5415 - accuracy: 0.8458 - val_loss: 0.7117 - val_accuracy: 0.5526\n",
      "Epoch 5/15\n",
      "22/22 [==============================] - 0s 13ms/step - loss: 0.1921 - accuracy: 0.9346 - val_loss: 0.9335 - val_accuracy: 0.5000\n",
      "Epoch 6/15\n",
      "22/22 [==============================] - 0s 14ms/step - loss: 0.0557 - accuracy: 0.9766 - val_loss: 1.3366 - val_accuracy: 0.5000\n",
      "Epoch 7/15\n",
      "22/22 [==============================] - 0s 13ms/step - loss: 0.0499 - accuracy: 0.9860 - val_loss: 1.1620 - val_accuracy: 0.5263\n",
      "Epoch 8/15\n",
      "22/22 [==============================] - 0s 14ms/step - loss: 0.0255 - accuracy: 0.9953 - val_loss: 1.3431 - val_accuracy: 0.5000\n",
      "Epoch 9/15\n",
      "22/22 [==============================] - 0s 13ms/step - loss: 0.0143 - accuracy: 0.9953 - val_loss: 1.3793 - val_accuracy: 0.4474\n",
      "Epoch 10/15\n",
      "22/22 [==============================] - 0s 13ms/step - loss: 0.0179 - accuracy: 0.9953 - val_loss: 1.3772 - val_accuracy: 0.5000\n",
      "Epoch 11/15\n",
      "22/22 [==============================] - 0s 13ms/step - loss: 0.0076 - accuracy: 1.0000 - val_loss: 1.5498 - val_accuracy: 0.5263\n",
      "Epoch 12/15\n",
      "22/22 [==============================] - 0s 13ms/step - loss: 0.0038 - accuracy: 1.0000 - val_loss: 1.7643 - val_accuracy: 0.4737\n",
      "Epoch 13/15\n",
      "22/22 [==============================] - 0s 13ms/step - loss: 0.0033 - accuracy: 1.0000 - val_loss: 1.8734 - val_accuracy: 0.4737\n",
      "Epoch 14/15\n",
      "22/22 [==============================] - 0s 13ms/step - loss: 0.0027 - accuracy: 1.0000 - val_loss: 2.1218 - val_accuracy: 0.5263\n",
      "Epoch 15/15\n",
      "22/22 [==============================] - 0s 13ms/step - loss: 0.0243 - accuracy: 0.9953 - val_loss: 1.6949 - val_accuracy: 0.5000\n"
     ]
    }
   ],
   "source": [
    "history = model.fit(x_train, y_train, batch_size=batch_size, epochs=epochs, validation_data=(x_test, y_test), shuffle=True)"
   ]
  },
  {
   "cell_type": "code",
   "execution_count": 2336,
   "metadata": {},
   "outputs": [
    {
     "name": "stdout",
     "output_type": "stream",
     "text": [
      "2/2 [==============================] - 0s 7ms/step - loss: 1.6949 - accuracy: 0.5000\n"
     ]
    },
    {
     "data": {
      "text/plain": [
       "[1.6949058771133423, 0.5]"
      ]
     },
     "execution_count": 2336,
     "metadata": {},
     "output_type": "execute_result"
    }
   ],
   "source": [
    "model.evaluate(x_test, y_test)"
   ]
  },
  {
   "cell_type": "code",
   "execution_count": 2337,
   "metadata": {},
   "outputs": [
    {
     "data": {
      "image/png": "[encoded data removed]",
      "text/plain": [
       "<Figure size 864x432 with 2 Axes>"
      ]
     },
     "metadata": {
      "needs_background": "light"
     },
     "output_type": "display_data"
    }
   ],
   "source": [
    "plot_loss_accuracy(history)"
   ]
  },
  {
   "attachments": {},
   "cell_type": "markdown",
   "metadata": {},
   "source": [
    "# LSTM biderectional"
   ]
  },
  {
   "attachments": {},
   "cell_type": "markdown",
   "metadata": {},
   "source": [
    "## Create model 2"
   ]
  },
  {
   "cell_type": "code",
   "execution_count": 2338,
   "metadata": {},
   "outputs": [],
   "source": [
    "model_2 = Sequential([\n",
    "    Embedding(vocab_size, 32, input_length=max_length),\n",
    "    Bidirectional(CuDNNLSTM(64, return_sequences=True)),\n",
    "\n",
    "    Bidirectional(CuDNNLSTM(64)),\n",
    "\n",
    "    Dense(128, activation='relu'),\n",
    "    Dropout(0.2),\n",
    "    Dense(num_classes,activation='sigmoid')\n",
    "])"
   ]
  },
  {
   "cell_type": "code",
   "execution_count": 2339,
   "metadata": {},
   "outputs": [],
   "source": [
    "model_2.compile(loss='binary_crossentropy',\n",
    "              optimizer='adam',\n",
    "              metrics=['accuracy'])"
   ]
  },
  {
   "cell_type": "code",
   "execution_count": 2340,
   "metadata": {},
   "outputs": [
    {
     "name": "stdout",
     "output_type": "stream",
     "text": [
      "Model: \"sequential_189\"\n",
      "_________________________________________________________________\n",
      " Layer (type)                Output Shape              Param #   \n",
      "=================================================================\n",
      " embedding_192 (Embedding)   (None, 51, 32)            66496     \n",
      "                                                                 \n",
      " bidirectional_180 (Bidirect  (None, 51, 128)          50176     \n",
      " ional)                                                          \n",
      "                                                                 \n",
      " bidirectional_181 (Bidirect  (None, 128)              99328     \n",
      " ional)                                                          \n",
      "                                                                 \n",
      " dense_382 (Dense)           (None, 128)               16512     \n",
      "                                                                 \n",
      " dropout_459 (Dropout)       (None, 128)               0         \n",
      "                                                                 \n",
      " dense_383 (Dense)           (None, 1)                 129       \n",
      "                                                                 \n",
      "=================================================================\n",
      "Total params: 232,641\n",
      "Trainable params: 232,641\n",
      "Non-trainable params: 0\n",
      "_________________________________________________________________\n"
     ]
    }
   ],
   "source": [
    "model_2.summary()"
   ]
  },
  {
   "attachments": {},
   "cell_type": "markdown",
   "metadata": {},
   "source": [
    "## train model_2"
   ]
  },
  {
   "cell_type": "code",
   "execution_count": 2341,
   "metadata": {},
   "outputs": [
    {
     "name": "stdout",
     "output_type": "stream",
     "text": [
      "Epoch 1/15\n",
      "22/22 [==============================] - 5s 55ms/step - loss: 0.6966 - accuracy: 0.4626 - val_loss: 0.6941 - val_accuracy: 0.4737\n",
      "Epoch 2/15\n",
      "22/22 [==============================] - 0s 21ms/step - loss: 0.6940 - accuracy: 0.5187 - val_loss: 0.6927 - val_accuracy: 0.4737\n",
      "Epoch 3/15\n",
      "22/22 [==============================] - 0s 21ms/step - loss: 0.6497 - accuracy: 0.7243 - val_loss: 0.9434 - val_accuracy: 0.4737\n",
      "Epoch 4/15\n",
      "22/22 [==============================] - 0s 23ms/step - loss: 0.2818 - accuracy: 0.9206 - val_loss: 1.4373 - val_accuracy: 0.6842\n",
      "Epoch 5/15\n",
      "22/22 [==============================] - 1s 26ms/step - loss: 0.0862 - accuracy: 0.9720 - val_loss: 0.9748 - val_accuracy: 0.7368\n",
      "Epoch 6/15\n",
      "22/22 [==============================] - 1s 25ms/step - loss: 0.1238 - accuracy: 0.9626 - val_loss: 1.1057 - val_accuracy: 0.5263\n",
      "Epoch 7/15\n",
      "22/22 [==============================] - 0s 19ms/step - loss: 0.0589 - accuracy: 0.9907 - val_loss: 1.0338 - val_accuracy: 0.6053\n",
      "Epoch 8/15\n",
      "22/22 [==============================] - 0s 19ms/step - loss: 0.0327 - accuracy: 0.9953 - val_loss: 1.3390 - val_accuracy: 0.6579\n",
      "Epoch 9/15\n",
      "22/22 [==============================] - 0s 23ms/step - loss: 0.0360 - accuracy: 0.9907 - val_loss: 0.9241 - val_accuracy: 0.6842\n",
      "Epoch 10/15\n",
      "22/22 [==============================] - 0s 21ms/step - loss: 0.0459 - accuracy: 0.9907 - val_loss: 1.0110 - val_accuracy: 0.6579\n",
      "Epoch 11/15\n",
      "22/22 [==============================] - 0s 21ms/step - loss: 0.0282 - accuracy: 0.9953 - val_loss: 0.8248 - val_accuracy: 0.6842\n",
      "Epoch 12/15\n",
      "22/22 [==============================] - 0s 21ms/step - loss: 0.0169 - accuracy: 0.9953 - val_loss: 1.0098 - val_accuracy: 0.6579\n",
      "Epoch 13/15\n",
      "22/22 [==============================] - 0s 21ms/step - loss: 0.0351 - accuracy: 0.9813 - val_loss: 0.9747 - val_accuracy: 0.6842\n",
      "Epoch 14/15\n",
      "22/22 [==============================] - 0s 19ms/step - loss: 0.0079 - accuracy: 0.9953 - val_loss: 1.0234 - val_accuracy: 0.7368\n",
      "Epoch 15/15\n",
      "22/22 [==============================] - 0s 20ms/step - loss: 0.0020 - accuracy: 1.0000 - val_loss: 1.1605 - val_accuracy: 0.7105\n"
     ]
    }
   ],
   "source": [
    "history_2 = model_2.fit(x_train, y_train, batch_size=batch_size, epochs=epochs, validation_data=(x_test, y_test), shuffle=True,)"
   ]
  },
  {
   "cell_type": "code",
   "execution_count": 2342,
   "metadata": {},
   "outputs": [
    {
     "name": "stdout",
     "output_type": "stream",
     "text": [
      "2/2 [==============================] - 0s 9ms/step - loss: 1.1605 - accuracy: 0.7105\n"
     ]
    },
    {
     "data": {
      "text/plain": [
       "[1.160535454750061, 0.7105262875556946]"
      ]
     },
     "execution_count": 2342,
     "metadata": {},
     "output_type": "execute_result"
    }
   ],
   "source": [
    "model_2.evaluate(x_test, y_test)"
   ]
  },
  {
   "cell_type": "code",
   "execution_count": 2343,
   "metadata": {},
   "outputs": [
    {
     "data": {
      "image/png": "[encoded data removed]",
      "text/plain": [
       "<Figure size 864x432 with 2 Axes>"
      ]
     },
     "metadata": {
      "needs_background": "light"
     },
     "output_type": "display_data"
    }
   ],
   "source": [
    "plot_loss_accuracy(history_2)"
   ]
  },
  {
   "attachments": {},
   "cell_type": "markdown",
   "metadata": {},
   "source": [
    "# Performance metrics"
   ]
  },
  {
   "cell_type": "code",
   "execution_count": 2344,
   "metadata": {},
   "outputs": [
    {
     "name": "stdout",
     "output_type": "stream",
     "text": [
      "2/2 [==============================] - 0s 4ms/step\n",
      "2/2 [==============================] - 0s 6ms/step\n"
     ]
    }
   ],
   "source": [
    "pred_model_1 = model.predict(x_test)\n",
    "pred_model_2 = model_2.predict(x_test)"
   ]
  },
  {
   "attachments": {},
   "cell_type": "markdown",
   "metadata": {},
   "source": [
    "### 1. Recall score"
   ]
  },
  {
   "cell_type": "code",
   "execution_count": 2345,
   "metadata": {},
   "outputs": [
    {
     "name": "stdout",
     "output_type": "stream",
     "text": [
      "recall score model 1 :  0.5\n",
      "recall score model 2 :  0.7105263157894737\n"
     ]
    }
   ],
   "source": [
    "from sklearn.metrics import recall_score\n",
    "print('recall score model 1 : ',recall_score(y_test, pred_model_1.round(), average='weighted'))\n",
    "print('recall score model 2 : ',recall_score(y_test, pred_model_2.round(), average='weighted'))"
   ]
  },
  {
   "attachments": {},
   "cell_type": "markdown",
   "metadata": {},
   "source": [
    "### 2. F1 score"
   ]
  },
  {
   "cell_type": "code",
   "execution_count": 2346,
   "metadata": {},
   "outputs": [
    {
     "name": "stdout",
     "output_type": "stream",
     "text": [
      "recall score model 1 :  0.49119097956307256\n",
      "recall score model 2 :  0.7103257103257103\n"
     ]
    }
   ],
   "source": [
    "from sklearn.metrics import f1_score\n",
    "print('recall score model 1 : ',f1_score(y_test, pred_model_1.round(), average='macro'))\n",
    "print('recall score model 2 : ',f1_score(y_test, pred_model_2.round(), average='macro'))"
   ]
  },
  {
   "cell_type": "code",
   "execution_count": null,
   "metadata": {},
   "outputs": [],
   "source": []
  }
 ],
 "metadata": {
  "kernelspec": {
   "display_name": "envtf",
   "language": "python",
   "name": "python3"
  },
  "language_info": {
   "codemirror_mode": {
    "name": "ipython",
    "version": 3
   },
   "file_extension": ".py",
   "mimetype": "text/x-python",
   "name": "python",
   "nbconvert_exporter": "python",
   "pygments_lexer": "ipython3",
   "version": "3.9.15"
  },
  "orig_nbformat": 4,
  "vscode": {
   "interpreter": {
    "hash": "82a4e1d51be42dd82f66b8e967c2ae005e6d3413f2cbc542c5d6254e2198e265"
   }
  }
 },
 "nbformat": 4,
 "nbformat_minor": 2
}
