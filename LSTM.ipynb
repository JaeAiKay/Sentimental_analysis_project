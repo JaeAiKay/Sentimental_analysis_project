{
 "cells": [
  {
   "cell_type": "code",
   "execution_count": 547,
   "metadata": {},
   "outputs": [],
   "source": [
    "import keras\n",
    "from keras.models import Sequential\n",
    "from keras.layers import Input, CuDNNLSTM, Dense, Bidirectional, Dropout\n",
    "from keras.layers import Embedding\n",
    "import keras.backend as K\n",
    "\n",
    "import numpy as np\n",
    "import string\n",
    "import csv\n",
    "import pandas as pd\n",
    "import nltk\n",
    "from nltk.tokenize import word_tokenize\n",
    "\n",
    "import matplotlib.pyplot as plt\n",
    "import random\n"
   ]
  },
  {
   "cell_type": "code",
   "execution_count": 548,
   "metadata": {},
   "outputs": [],
   "source": [
    "url = \"./datasets/pre_processed_dataset.csv\"\n",
    "names = [\"tweet\", \"label\"]\n",
    "data = pd.read_csv(url,names=names)\n",
    "data = data.drop(data.index[0])\n",
    "data = data.sample(frac = 1)"
   ]
  },
  {
   "cell_type": "code",
   "execution_count": 549,
   "metadata": {},
   "outputs": [],
   "source": [
    "X = data['tweet']\n",
    "y = data['label']"
   ]
  },
  {
   "attachments": {},
   "cell_type": "markdown",
   "metadata": {},
   "source": [
    "# Vectorization"
   ]
  },
  {
   "cell_type": "code",
   "execution_count": 550,
   "metadata": {},
   "outputs": [],
   "source": [
    "from keras.preprocessing.text import Tokenizer\n",
    "from keras.utils import pad_sequences"
   ]
  },
  {
   "cell_type": "code",
   "execution_count": 551,
   "metadata": {},
   "outputs": [],
   "source": [
    "# หาความยาวสูงสุดของ senence ใน tweets\n",
    "max_length = max([len(word_tokenize(i)) for i in X])"
   ]
  },
  {
   "cell_type": "code",
   "execution_count": 552,
   "metadata": {},
   "outputs": [],
   "source": [
    "tokenizer = Tokenizer()\n",
    "tokenizer.fit_on_texts(X)"
   ]
  },
  {
   "cell_type": "code",
   "execution_count": 553,
   "metadata": {},
   "outputs": [
    {
     "name": "stdout",
     "output_type": "stream",
     "text": [
      "Found 2078 unique tokens.\n"
     ]
    }
   ],
   "source": [
    "vocab_size = len(tokenizer.word_index) + 1\n",
    "print('Found %s unique tokens.' %(vocab_size))"
   ]
  },
  {
   "cell_type": "code",
   "execution_count": 554,
   "metadata": {},
   "outputs": [],
   "source": [
    "# integer encode the tweets\n",
    "x_sequences = tokenizer.texts_to_sequences(X)"
   ]
  },
  {
   "cell_type": "code",
   "execution_count": 555,
   "metadata": {},
   "outputs": [],
   "source": [
    "# encode the label\n",
    "num_classes = 3\n",
    "y = keras.utils.to_categorical(y, num_classes)"
   ]
  },
  {
   "cell_type": "code",
   "execution_count": 556,
   "metadata": {},
   "outputs": [],
   "source": [
    "X = pad_sequences(x_sequences, maxlen=max_length)"
   ]
  },
  {
   "cell_type": "markdown",
   "metadata": {},
   "source": [
    "# Split data"
   ]
  },
  {
   "cell_type": "code",
   "execution_count": 557,
   "metadata": {},
   "outputs": [],
   "source": [
    "from sklearn.model_selection import train_test_split\n",
    "x_train, x_test, y_train, y_test = train_test_split(X, y, test_size=0.15)"
   ]
  },
  {
   "cell_type": "code",
   "execution_count": 558,
   "metadata": {},
   "outputs": [
    {
     "data": {
      "text/plain": [
       "((214, 51), (214, 3), (38, 51), (38, 3))"
      ]
     },
     "execution_count": 558,
     "metadata": {},
     "output_type": "execute_result"
    }
   ],
   "source": [
    "x_train.shape, y_train.shape, x_test.shape, y_test.shape"
   ]
  },
  {
   "cell_type": "code",
   "execution_count": 559,
   "metadata": {},
   "outputs": [],
   "source": [
    "def plot_loss_accuracy(history):\n",
    "    fig = plt.figure(figsize=(12, 6))\n",
    "    ax = fig.add_subplot(1, 2, 1)\n",
    "    ax.plot(history.history[\"loss\"],'r-x', label=\"Train Loss\")\n",
    "    ax.plot(history.history[\"val_loss\"],'b-x', label=\"Validation Loss\")\n",
    "    ax.legend()\n",
    "    ax.set_title('cross_entropy loss')\n",
    "    ax.grid(True)\n",
    "\n",
    "\n",
    "    ax = fig.add_subplot(1, 2, 2)\n",
    "    ax.plot(history.history[\"accuracy\"],'r-x', label=\"Train Accuracy\")\n",
    "    ax.plot(history.history[\"val_accuracy\"],'b-x', label=\"Validation Accuracy\")\n",
    "    ax.legend()\n",
    "    ax.set_title('accuracy')\n",
    "    ax.grid(True)"
   ]
  },
  {
   "attachments": {},
   "cell_type": "markdown",
   "metadata": {},
   "source": [
    "# LSTM"
   ]
  },
  {
   "cell_type": "code",
   "execution_count": 919,
   "metadata": {},
   "outputs": [
    {
     "data": {
      "text/plain": [
       "((214, 51), (214, 3), (38, 51), (38, 3))"
      ]
     },
     "execution_count": 919,
     "metadata": {},
     "output_type": "execute_result"
    }
   ],
   "source": [
    "x_train.shape, y_train.shape, x_test.shape, y_test.shape"
   ]
  },
  {
   "cell_type": "code",
   "execution_count": 978,
   "metadata": {},
   "outputs": [],
   "source": [
    "model = Sequential([\n",
    "    Embedding(vocab_size, 32, input_length=max_length),\n",
    "    CuDNNLSTM(128, return_sequences=True),\n",
    "    Dropout(0.25),\n",
    "\n",
    "    CuDNNLSTM(128),\n",
    "    Dropout(0.25),\n",
    "\n",
    "    Dense(128, activation='relu'),\n",
    "    Dropout(0.5),\n",
    "    Dense(3,activation='softmax')\n",
    "])"
   ]
  },
  {
   "cell_type": "code",
   "execution_count": 979,
   "metadata": {},
   "outputs": [],
   "source": [
    "batch_size=20\n",
    "epochs=15"
   ]
  },
  {
   "cell_type": "code",
   "execution_count": 980,
   "metadata": {},
   "outputs": [],
   "source": [
    "# model.compile(loss=['categorical_crossentropy'], optimizer='adam', metrics=['accuracy'])"
   ]
  },
  {
   "cell_type": "code",
   "execution_count": 981,
   "metadata": {},
   "outputs": [],
   "source": [
    "rmsprop = keras.optimizers.RMSprop(lr = .002)\n",
    "\n",
    "model.compile(loss='categorical_crossentropy',\n",
    "              optimizer=rmsprop,\n",
    "              metrics=['accuracy'])"
   ]
  },
  {
   "cell_type": "code",
   "execution_count": 982,
   "metadata": {},
   "outputs": [
    {
     "name": "stdout",
     "output_type": "stream",
     "text": [
      "Model: \"sequential_98\"\n",
      "_________________________________________________________________\n",
      " Layer (type)                Output Shape              Param #   \n",
      "=================================================================\n",
      " embedding_100 (Embedding)   (None, 51, 32)            66496     \n",
      "                                                                 \n",
      " cu_dnnlstm_205 (CuDNNLSTM)  (None, 51, 128)           82944     \n",
      "                                                                 \n",
      " dropout_247 (Dropout)       (None, 51, 128)           0         \n",
      "                                                                 \n",
      " cu_dnnlstm_206 (CuDNNLSTM)  (None, 128)               132096    \n",
      "                                                                 \n",
      " dropout_248 (Dropout)       (None, 128)               0         \n",
      "                                                                 \n",
      " dense_200 (Dense)           (None, 128)               16512     \n",
      "                                                                 \n",
      " dropout_249 (Dropout)       (None, 128)               0         \n",
      "                                                                 \n",
      " dense_201 (Dense)           (None, 3)                 387       \n",
      "                                                                 \n",
      "=================================================================\n",
      "Total params: 298,435\n",
      "Trainable params: 298,435\n",
      "Non-trainable params: 0\n",
      "_________________________________________________________________\n"
     ]
    }
   ],
   "source": [
    "model.summary()"
   ]
  },
  {
   "cell_type": "code",
   "execution_count": 983,
   "metadata": {},
   "outputs": [],
   "source": [
    "from keras.callbacks import EarlyStopping\n",
    "es = EarlyStopping(monitor='val_loss', mode='min', verbose=5, patience=4)"
   ]
  },
  {
   "cell_type": "code",
   "execution_count": 984,
   "metadata": {},
   "outputs": [
    {
     "name": "stdout",
     "output_type": "stream",
     "text": [
      "Epoch 1/15\n",
      "11/11 [==============================] - 2s 65ms/step - loss: 1.0801 - accuracy: 0.4393 - val_loss: 0.8922 - val_accuracy: 0.6842\n",
      "Epoch 2/15\n",
      "11/11 [==============================] - 0s 21ms/step - loss: 1.1284 - accuracy: 0.4720 - val_loss: 1.6777 - val_accuracy: 0.2105\n",
      "Epoch 3/15\n",
      "11/11 [==============================] - 0s 19ms/step - loss: 1.1038 - accuracy: 0.4486 - val_loss: 1.0244 - val_accuracy: 0.6579\n",
      "Epoch 4/15\n",
      "11/11 [==============================] - 0s 18ms/step - loss: 0.9572 - accuracy: 0.5514 - val_loss: 0.8874 - val_accuracy: 0.7105\n",
      "Epoch 5/15\n",
      "11/11 [==============================] - 0s 18ms/step - loss: 0.7440 - accuracy: 0.6589 - val_loss: 0.9705 - val_accuracy: 0.5000\n",
      "Epoch 6/15\n",
      "11/11 [==============================] - 0s 19ms/step - loss: 0.5076 - accuracy: 0.8832 - val_loss: 0.7976 - val_accuracy: 0.6842\n",
      "Epoch 7/15\n",
      "11/11 [==============================] - 0s 18ms/step - loss: 0.2650 - accuracy: 0.9299 - val_loss: 0.8754 - val_accuracy: 0.6053\n",
      "Epoch 8/15\n",
      "11/11 [==============================] - 0s 17ms/step - loss: 0.1470 - accuracy: 0.9626 - val_loss: 1.3827 - val_accuracy: 0.5000\n",
      "Epoch 9/15\n",
      "11/11 [==============================] - 0s 18ms/step - loss: 0.0558 - accuracy: 0.9860 - val_loss: 1.3108 - val_accuracy: 0.4737\n",
      "Epoch 10/15\n",
      "11/11 [==============================] - 0s 17ms/step - loss: 0.0164 - accuracy: 1.0000 - val_loss: 1.2578 - val_accuracy: 0.6053\n",
      "Epoch 10: early stopping\n"
     ]
    }
   ],
   "source": [
    "history = model.fit(x_train, y_train, batch_size=batch_size, epochs=epochs, validation_data=(x_test, y_test), shuffle=True, callbacks=[es])"
   ]
  },
  {
   "cell_type": "code",
   "execution_count": 985,
   "metadata": {},
   "outputs": [
    {
     "name": "stdout",
     "output_type": "stream",
     "text": [
      "2/2 [==============================] - 0s 8ms/step - loss: 1.2578 - accuracy: 0.6053\n"
     ]
    },
    {
     "data": {
      "text/plain": [
       "[1.2577860355377197, 0.6052631735801697]"
      ]
     },
     "execution_count": 985,
     "metadata": {},
     "output_type": "execute_result"
    }
   ],
   "source": [
    "model.evaluate(x_test, y_test)"
   ]
  },
  {
   "cell_type": "code",
   "execution_count": 986,
   "metadata": {},
   "outputs": [
    {
     "data": {
      "image/png": "[encoded data removed]",
      "text/plain": [
       "<Figure size 864x432 with 2 Axes>"
      ]
     },
     "metadata": {
      "needs_background": "light"
     },
     "output_type": "display_data"
    }
   ],
   "source": [
    "plot_loss_accuracy(history)"
   ]
  },
  {
   "attachments": {},
   "cell_type": "markdown",
   "metadata": {},
   "source": [
    "# LSTM biderectional"
   ]
  },
  {
   "cell_type": "code",
   "execution_count": 994,
   "metadata": {},
   "outputs": [],
   "source": [
    "model_2 = Sequential([\n",
    "    Embedding(vocab_size, 32, input_length=max_length),\n",
    "    Bidirectional(CuDNNLSTM(128, return_sequences=True)),\n",
    "    Dropout(0.25),\n",
    "\n",
    "    Bidirectional(CuDNNLSTM(128)),\n",
    "    Dropout(0.25),\n",
    "\n",
    "    Dense(128, activation='relu'),\n",
    "    Dropout(0.5),\n",
    "    Dense(3,activation='softmax')\n",
    "])"
   ]
  },
  {
   "cell_type": "code",
   "execution_count": 995,
   "metadata": {},
   "outputs": [],
   "source": [
    "batch_size=20\n",
    "epochs=15"
   ]
  },
  {
   "cell_type": "code",
   "execution_count": 996,
   "metadata": {},
   "outputs": [],
   "source": [
    "rmsprop = keras.optimizers.RMSprop(lr = .002)\n",
    "\n",
    "model_2.compile(loss='categorical_crossentropy',\n",
    "              optimizer=rmsprop,\n",
    "              metrics=['accuracy'])"
   ]
  },
  {
   "cell_type": "code",
   "execution_count": 997,
   "metadata": {},
   "outputs": [
    {
     "name": "stdout",
     "output_type": "stream",
     "text": [
      "Model: \"sequential_100\"\n",
      "_________________________________________________________________\n",
      " Layer (type)                Output Shape              Param #   \n",
      "=================================================================\n",
      " embedding_102 (Embedding)   (None, 51, 32)            66496     \n",
      "                                                                 \n",
      " bidirectional_98 (Bidirecti  (None, 51, 256)          165888    \n",
      " onal)                                                           \n",
      "                                                                 \n",
      " dropout_253 (Dropout)       (None, 51, 256)           0         \n",
      "                                                                 \n",
      " bidirectional_99 (Bidirecti  (None, 256)              395264    \n",
      " onal)                                                           \n",
      "                                                                 \n",
      " dropout_254 (Dropout)       (None, 256)               0         \n",
      "                                                                 \n",
      " dense_204 (Dense)           (None, 128)               32896     \n",
      "                                                                 \n",
      " dropout_255 (Dropout)       (None, 128)               0         \n",
      "                                                                 \n",
      " dense_205 (Dense)           (None, 3)                 387       \n",
      "                                                                 \n",
      "=================================================================\n",
      "Total params: 660,931\n",
      "Trainable params: 660,931\n",
      "Non-trainable params: 0\n",
      "_________________________________________________________________\n"
     ]
    }
   ],
   "source": [
    "model_2.summary()"
   ]
  },
  {
   "cell_type": "code",
   "execution_count": 998,
   "metadata": {},
   "outputs": [
    {
     "name": "stdout",
     "output_type": "stream",
     "text": [
      "Epoch 1/15\n",
      "11/11 [==============================] - 4s 114ms/step - loss: 1.2046 - accuracy: 0.4579 - val_loss: 1.2090 - val_accuracy: 0.2105\n",
      "Epoch 2/15\n",
      "11/11 [==============================] - 0s 31ms/step - loss: 1.0820 - accuracy: 0.4393 - val_loss: 0.9402 - val_accuracy: 0.6842\n",
      "Epoch 3/15\n",
      "11/11 [==============================] - 0s 27ms/step - loss: 1.0626 - accuracy: 0.4766 - val_loss: 0.8342 - val_accuracy: 0.6842\n",
      "Epoch 4/15\n",
      "11/11 [==============================] - 0s 29ms/step - loss: 1.0141 - accuracy: 0.4766 - val_loss: 1.0683 - val_accuracy: 0.6842\n",
      "Epoch 5/15\n",
      "11/11 [==============================] - 0s 26ms/step - loss: 0.7925 - accuracy: 0.7056 - val_loss: 1.6842 - val_accuracy: 0.3158\n",
      "Epoch 6/15\n",
      "11/11 [==============================] - 0s 25ms/step - loss: 0.3406 - accuracy: 0.9065 - val_loss: 1.8463 - val_accuracy: 0.3947\n",
      "Epoch 7/15\n",
      "11/11 [==============================] - 0s 26ms/step - loss: 0.2313 - accuracy: 0.9346 - val_loss: 1.2934 - val_accuracy: 0.5789\n",
      "Epoch 7: early stopping\n"
     ]
    }
   ],
   "source": [
    "history_2 = model_2.fit(x_train, y_train, batch_size=batch_size, epochs=epochs, validation_data=(x_test, y_test), shuffle=True, callbacks=[es])"
   ]
  },
  {
   "cell_type": "code",
   "execution_count": 999,
   "metadata": {},
   "outputs": [
    {
     "name": "stdout",
     "output_type": "stream",
     "text": [
      "2/2 [==============================] - 0s 7ms/step - loss: 1.2934 - accuracy: 0.5789\n"
     ]
    },
    {
     "data": {
      "text/plain": [
       "[1.2933828830718994, 0.5789473652839661]"
      ]
     },
     "execution_count": 999,
     "metadata": {},
     "output_type": "execute_result"
    }
   ],
   "source": [
    "model_2.evaluate(x_test, y_test)"
   ]
  },
  {
   "cell_type": "code",
   "execution_count": 1000,
   "metadata": {},
   "outputs": [
    {
     "data": {
      "image/png": "[encoded data removed]",
      "text/plain": [
       "<Figure size 864x432 with 2 Axes>"
      ]
     },
     "metadata": {
      "needs_background": "light"
     },
     "output_type": "display_data"
    }
   ],
   "source": [
    "plot_loss_accuracy(history_2)"
   ]
  }
 ],
 "metadata": {
  "kernelspec": {
   "display_name": "envtf",
   "language": "python",
   "name": "python3"
  },
  "language_info": {
   "codemirror_mode": {
    "name": "ipython",
    "version": 3
   },
   "file_extension": ".py",
   "mimetype": "text/x-python",
   "name": "python",
   "nbconvert_exporter": "python",
   "pygments_lexer": "ipython3",
   "version": "3.9.15"
  },
  "orig_nbformat": 4,
  "vscode": {
   "interpreter": {
    "hash": "82a4e1d51be42dd82f66b8e967c2ae005e6d3413f2cbc542c5d6254e2198e265"
   }
  }
 },
 "nbformat": 4,
 "nbformat_minor": 2
}
