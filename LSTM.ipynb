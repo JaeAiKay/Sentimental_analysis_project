{
 "cells": [
  {
   "cell_type": "code",
   "execution_count": 1690,
   "metadata": {},
   "outputs": [],
   "source": [
    "import keras\n",
    "from keras.models import Sequential\n",
    "from keras.layers import Input, CuDNNLSTM, Dense, Bidirectional, Dropout\n",
    "from keras.layers import Embedding\n",
    "import keras.backend as K\n",
    "\n",
    "import numpy as np\n",
    "import string\n",
    "import csv\n",
    "import pandas as pd\n",
    "import nltk\n",
    "from nltk.tokenize import word_tokenize\n",
    "\n",
    "import matplotlib.pyplot as plt\n",
    "import random\n"
   ]
  },
  {
   "cell_type": "code",
   "execution_count": 1691,
   "metadata": {},
   "outputs": [],
   "source": [
    "url = \"./datasets/pre_processed_dataset.csv\"\n",
    "names = [\"tweet\", \"label\"]\n",
    "data = pd.read_csv(url,names=names)\n",
    "data = data.drop(data.index[0])\n",
    "data = data.sample(frac = 1)"
   ]
  },
  {
   "cell_type": "code",
   "execution_count": 1692,
   "metadata": {},
   "outputs": [],
   "source": [
    "X = data['tweet']\n",
    "y = data['label']"
   ]
  },
  {
   "cell_type": "code",
   "execution_count": 1693,
   "metadata": {},
   "outputs": [
    {
     "name": "stderr",
     "output_type": "stream",
     "text": [
      "C:\\Users\\USER\\AppData\\Local\\Temp\\ipykernel_11916\\4066623601.py:1: SettingWithCopyWarning: \n",
      "A value is trying to be set on a copy of a slice from a DataFrame\n",
      "\n",
      "See the caveats in the documentation: https://pandas.pydata.org/pandas-docs/stable/user_guide/indexing.html#returning-a-view-versus-a-copy\n",
      "  y[y == 0] = 1\n"
     ]
    }
   ],
   "source": [
    "y[y == 0] = 1"
   ]
  },
  {
   "cell_type": "code",
   "execution_count": 1694,
   "metadata": {},
   "outputs": [
    {
     "name": "stderr",
     "output_type": "stream",
     "text": [
      "C:\\Users\\USER\\AppData\\Local\\Temp\\ipykernel_11916\\3153561895.py:1: SettingWithCopyWarning: \n",
      "A value is trying to be set on a copy of a slice from a DataFrame\n",
      "\n",
      "See the caveats in the documentation: https://pandas.pydata.org/pandas-docs/stable/user_guide/indexing.html#returning-a-view-versus-a-copy\n",
      "  y[y == -1] = 0\n"
     ]
    }
   ],
   "source": [
    "y[y == -1] = 0"
   ]
  },
  {
   "cell_type": "code",
   "execution_count": 1695,
   "metadata": {},
   "outputs": [],
   "source": [
    "num_classes = 2"
   ]
  },
  {
   "attachments": {},
   "cell_type": "markdown",
   "metadata": {},
   "source": [
    "# Vectorization"
   ]
  },
  {
   "cell_type": "code",
   "execution_count": 1696,
   "metadata": {},
   "outputs": [],
   "source": [
    "from keras.preprocessing.text import Tokenizer\n",
    "from keras.utils import pad_sequences"
   ]
  },
  {
   "cell_type": "code",
   "execution_count": 1697,
   "metadata": {},
   "outputs": [],
   "source": [
    "# หาความยาวสูงสุดของ senence ใน tweets\n",
    "max_length = max([len(word_tokenize(i)) for i in X])"
   ]
  },
  {
   "cell_type": "code",
   "execution_count": 1698,
   "metadata": {},
   "outputs": [],
   "source": [
    "tokenizer = Tokenizer()\n",
    "tokenizer.fit_on_texts(X)"
   ]
  },
  {
   "cell_type": "code",
   "execution_count": 1699,
   "metadata": {},
   "outputs": [
    {
     "name": "stdout",
     "output_type": "stream",
     "text": [
      "Found 2078 unique tokens.\n"
     ]
    }
   ],
   "source": [
    "vocab_size = len(tokenizer.word_index) + 1\n",
    "print('Found %s unique tokens.' %(vocab_size))"
   ]
  },
  {
   "cell_type": "code",
   "execution_count": 1700,
   "metadata": {},
   "outputs": [],
   "source": [
    "# integer encode the tweets\n",
    "x_sequences = tokenizer.texts_to_sequences(X)"
   ]
  },
  {
   "cell_type": "code",
   "execution_count": 1701,
   "metadata": {},
   "outputs": [],
   "source": [
    "# encode the label\n",
    "y = keras.utils.to_categorical(y, num_classes)"
   ]
  },
  {
   "cell_type": "code",
   "execution_count": 1702,
   "metadata": {},
   "outputs": [],
   "source": [
    "X = pad_sequences(x_sequences, maxlen=max_length)"
   ]
  },
  {
   "cell_type": "markdown",
   "metadata": {},
   "source": [
    "# Split data"
   ]
  },
  {
   "cell_type": "code",
   "execution_count": 1703,
   "metadata": {},
   "outputs": [],
   "source": [
    "from sklearn.model_selection import train_test_split\n",
    "x_train, x_test, y_train, y_test = train_test_split(X, y, test_size=0.15)"
   ]
  },
  {
   "cell_type": "code",
   "execution_count": 1704,
   "metadata": {},
   "outputs": [
    {
     "data": {
      "text/plain": [
       "((214, 51), (214, 2), (38, 51), (38, 2))"
      ]
     },
     "execution_count": 1704,
     "metadata": {},
     "output_type": "execute_result"
    }
   ],
   "source": [
    "x_train.shape, y_train.shape, x_test.shape, y_test.shape"
   ]
  },
  {
   "cell_type": "code",
   "execution_count": 1705,
   "metadata": {},
   "outputs": [],
   "source": [
    "def plot_loss_accuracy(history):\n",
    "    fig = plt.figure(figsize=(12, 6))\n",
    "    ax = fig.add_subplot(1, 2, 1)\n",
    "    ax.plot(history.history[\"loss\"],'r-x', label=\"Train Loss\")\n",
    "    ax.plot(history.history[\"val_loss\"],'b-x', label=\"Validation Loss\")\n",
    "    ax.legend()\n",
    "    ax.set_title('cross_entropy loss')\n",
    "    ax.grid(True)\n",
    "\n",
    "\n",
    "    ax = fig.add_subplot(1, 2, 2)\n",
    "    ax.plot(history.history[\"accuracy\"],'r-x', label=\"Train Accuracy\")\n",
    "    ax.plot(history.history[\"val_accuracy\"],'b-x', label=\"Validation Accuracy\")\n",
    "    ax.legend()\n",
    "    ax.set_title('accuracy')\n",
    "    ax.grid(True)"
   ]
  },
  {
   "cell_type": "code",
   "execution_count": 1706,
   "metadata": {},
   "outputs": [
    {
     "data": {
      "text/plain": [
       "((214, 51), (214, 2), (38, 51), (38, 2))"
      ]
     },
     "execution_count": 1706,
     "metadata": {},
     "output_type": "execute_result"
    }
   ],
   "source": [
    "x_train.shape, y_train.shape, x_test.shape, y_test.shape"
   ]
  },
  {
   "attachments": {},
   "cell_type": "markdown",
   "metadata": {},
   "source": [
    "# LSTM"
   ]
  },
  {
   "cell_type": "markdown",
   "metadata": {},
   "source": [
    "##### set parameter"
   ]
  },
  {
   "cell_type": "code",
   "execution_count": 1722,
   "metadata": {},
   "outputs": [],
   "source": [
    "epochs=30\n",
    "batch_size=10"
   ]
  },
  {
   "attachments": {},
   "cell_type": "markdown",
   "metadata": {},
   "source": [
    "## Create model 1"
   ]
  },
  {
   "cell_type": "code",
   "execution_count": 1723,
   "metadata": {},
   "outputs": [],
   "source": [
    "model = Sequential([\n",
    "    Embedding(vocab_size, 32, input_length=max_length),\n",
    "    CuDNNLSTM(128, return_sequences=True),\n",
    "    Dropout(0.25),\n",
    "\n",
    "    CuDNNLSTM(128),\n",
    "    Dropout(0.25),\n",
    "\n",
    "    Dense(128, activation='relu'),\n",
    "    Dropout(0.5),\n",
    "    Dense(num_classes,activation='softmax')\n",
    "])"
   ]
  },
  {
   "cell_type": "code",
   "execution_count": 1724,
   "metadata": {},
   "outputs": [],
   "source": [
    "# model.compile(loss=['categorical_crossentropy'], optimizer='adam', metrics=['accuracy'])"
   ]
  },
  {
   "cell_type": "code",
   "execution_count": 1725,
   "metadata": {},
   "outputs": [
    {
     "name": "stderr",
     "output_type": "stream",
     "text": [
      "c:\\Users\\USER\\anaconda3\\envs\\envtf\\lib\\site-packages\\keras\\optimizers\\optimizer_v2\\rmsprop.py:140: UserWarning: The `lr` argument is deprecated, use `learning_rate` instead.\n",
      "  super().__init__(name, **kwargs)\n"
     ]
    }
   ],
   "source": [
    "rmsprop = keras.optimizers.RMSprop(lr = .001)\n",
    "\n",
    "model.compile(loss='categorical_crossentropy',\n",
    "              optimizer=rmsprop,\n",
    "              metrics=['accuracy'])"
   ]
  },
  {
   "cell_type": "code",
   "execution_count": 1726,
   "metadata": {},
   "outputs": [
    {
     "name": "stdout",
     "output_type": "stream",
     "text": [
      "Model: \"sequential_144\"\n",
      "_________________________________________________________________\n",
      " Layer (type)                Output Shape              Param #   \n",
      "=================================================================\n",
      " embedding_146 (Embedding)   (None, 51, 32)            66496     \n",
      "                                                                 \n",
      " cu_dnnlstm_297 (CuDNNLSTM)  (None, 51, 128)           82944     \n",
      "                                                                 \n",
      " dropout_379 (Dropout)       (None, 51, 128)           0         \n",
      "                                                                 \n",
      " cu_dnnlstm_298 (CuDNNLSTM)  (None, 128)               132096    \n",
      "                                                                 \n",
      " dropout_380 (Dropout)       (None, 128)               0         \n",
      "                                                                 \n",
      " dense_292 (Dense)           (None, 128)               16512     \n",
      "                                                                 \n",
      " dropout_381 (Dropout)       (None, 128)               0         \n",
      "                                                                 \n",
      " dense_293 (Dense)           (None, 2)                 258       \n",
      "                                                                 \n",
      "=================================================================\n",
      "Total params: 298,306\n",
      "Trainable params: 298,306\n",
      "Non-trainable params: 0\n",
      "_________________________________________________________________\n"
     ]
    }
   ],
   "source": [
    "model.summary()"
   ]
  },
  {
   "cell_type": "code",
   "execution_count": 1727,
   "metadata": {},
   "outputs": [],
   "source": [
    "# from keras.callbacks import EarlyStopping\n",
    "# es = EarlyStopping(monitor='val_loss', mode='min', verbose=5, patience=4)"
   ]
  },
  {
   "attachments": {},
   "cell_type": "markdown",
   "metadata": {},
   "source": [
    "## train model1"
   ]
  },
  {
   "cell_type": "code",
   "execution_count": 1728,
   "metadata": {},
   "outputs": [
    {
     "name": "stdout",
     "output_type": "stream",
     "text": [
      "Epoch 1/30\n",
      "22/22 [==============================] - 3s 45ms/step - loss: 0.6997 - accuracy: 0.4720 - val_loss: 0.6936 - val_accuracy: 0.4737\n",
      "Epoch 2/30\n",
      "22/22 [==============================] - 0s 17ms/step - loss: 0.6981 - accuracy: 0.4860 - val_loss: 0.6920 - val_accuracy: 0.5263\n",
      "Epoch 3/30\n",
      "22/22 [==============================] - 0s 16ms/step - loss: 0.6973 - accuracy: 0.5234 - val_loss: 0.6922 - val_accuracy: 0.5263\n",
      "Epoch 4/30\n",
      "22/22 [==============================] - 0s 15ms/step - loss: 0.6931 - accuracy: 0.5234 - val_loss: 0.6976 - val_accuracy: 0.5263\n",
      "Epoch 5/30\n",
      "22/22 [==============================] - 0s 15ms/step - loss: 0.6708 - accuracy: 0.6308 - val_loss: 0.6452 - val_accuracy: 0.6842\n",
      "Epoch 6/30\n",
      "22/22 [==============================] - 0s 17ms/step - loss: 0.3406 - accuracy: 0.9019 - val_loss: 1.5891 - val_accuracy: 0.5526\n",
      "Epoch 7/30\n",
      "22/22 [==============================] - 0s 15ms/step - loss: 0.1633 - accuracy: 0.9393 - val_loss: 0.8596 - val_accuracy: 0.5789\n",
      "Epoch 8/30\n",
      "22/22 [==============================] - 0s 14ms/step - loss: 0.0735 - accuracy: 0.9766 - val_loss: 4.2371 - val_accuracy: 0.5000\n",
      "Epoch 9/30\n",
      "22/22 [==============================] - 0s 15ms/step - loss: 0.0748 - accuracy: 0.9720 - val_loss: 0.8023 - val_accuracy: 0.7632\n",
      "Epoch 10/30\n",
      "22/22 [==============================] - 0s 15ms/step - loss: 0.0414 - accuracy: 0.9907 - val_loss: 1.0638 - val_accuracy: 0.7632\n",
      "Epoch 11/30\n",
      "22/22 [==============================] - 0s 15ms/step - loss: 0.0583 - accuracy: 0.9813 - val_loss: 1.0935 - val_accuracy: 0.6579\n",
      "Epoch 12/30\n",
      "22/22 [==============================] - 0s 15ms/step - loss: 0.0351 - accuracy: 0.9860 - val_loss: 1.1896 - val_accuracy: 0.7895\n",
      "Epoch 13/30\n",
      "22/22 [==============================] - 0s 15ms/step - loss: 0.0065 - accuracy: 0.9953 - val_loss: 1.8870 - val_accuracy: 0.7368\n",
      "Epoch 14/30\n",
      "22/22 [==============================] - 0s 15ms/step - loss: 0.0607 - accuracy: 0.9907 - val_loss: 1.0786 - val_accuracy: 0.6842\n",
      "Epoch 15/30\n",
      "22/22 [==============================] - 0s 15ms/step - loss: 0.0366 - accuracy: 0.9860 - val_loss: 1.2396 - val_accuracy: 0.7368\n",
      "Epoch 16/30\n",
      "22/22 [==============================] - 0s 14ms/step - loss: 0.0112 - accuracy: 0.9953 - val_loss: 1.2214 - val_accuracy: 0.7368\n",
      "Epoch 17/30\n",
      "22/22 [==============================] - 0s 15ms/step - loss: 0.0191 - accuracy: 0.9953 - val_loss: 1.1046 - val_accuracy: 0.7368\n",
      "Epoch 18/30\n",
      "22/22 [==============================] - 0s 15ms/step - loss: 0.0091 - accuracy: 0.9953 - val_loss: 1.5017 - val_accuracy: 0.6842\n",
      "Epoch 19/30\n",
      "22/22 [==============================] - 0s 15ms/step - loss: 0.0452 - accuracy: 0.9860 - val_loss: 0.9770 - val_accuracy: 0.8421\n",
      "Epoch 20/30\n",
      "22/22 [==============================] - 0s 15ms/step - loss: 0.0162 - accuracy: 0.9953 - val_loss: 1.3657 - val_accuracy: 0.7895\n",
      "Epoch 21/30\n",
      "22/22 [==============================] - 0s 15ms/step - loss: 0.0108 - accuracy: 0.9953 - val_loss: 1.1244 - val_accuracy: 0.7895\n",
      "Epoch 22/30\n",
      "22/22 [==============================] - 0s 15ms/step - loss: 0.0024 - accuracy: 1.0000 - val_loss: 1.6882 - val_accuracy: 0.7105\n",
      "Epoch 23/30\n",
      "22/22 [==============================] - 0s 14ms/step - loss: 0.0224 - accuracy: 0.9907 - val_loss: 1.3194 - val_accuracy: 0.6842\n",
      "Epoch 24/30\n",
      "22/22 [==============================] - 0s 14ms/step - loss: 0.0012 - accuracy: 1.0000 - val_loss: 1.2248 - val_accuracy: 0.7895\n",
      "Epoch 25/30\n",
      "22/22 [==============================] - 0s 15ms/step - loss: 0.0221 - accuracy: 0.9907 - val_loss: 1.4527 - val_accuracy: 0.7632\n",
      "Epoch 26/30\n",
      "22/22 [==============================] - 0s 15ms/step - loss: 0.0037 - accuracy: 1.0000 - val_loss: 1.1507 - val_accuracy: 0.8158\n",
      "Epoch 27/30\n",
      "22/22 [==============================] - 0s 15ms/step - loss: 8.1841e-04 - accuracy: 1.0000 - val_loss: 1.3803 - val_accuracy: 0.7632\n",
      "Epoch 28/30\n",
      "22/22 [==============================] - 0s 15ms/step - loss: 9.7386e-04 - accuracy: 1.0000 - val_loss: 1.5028 - val_accuracy: 0.7895\n",
      "Epoch 29/30\n",
      "22/22 [==============================] - 0s 15ms/step - loss: 0.0149 - accuracy: 0.9907 - val_loss: 1.6165 - val_accuracy: 0.7895\n",
      "Epoch 30/30\n",
      "22/22 [==============================] - 0s 15ms/step - loss: 8.2501e-04 - accuracy: 1.0000 - val_loss: 1.7661 - val_accuracy: 0.7368\n"
     ]
    }
   ],
   "source": [
    "history = model.fit(x_train, y_train, batch_size=batch_size, epochs=epochs, validation_data=(x_test, y_test), shuffle=True)"
   ]
  },
  {
   "cell_type": "code",
   "execution_count": 1729,
   "metadata": {},
   "outputs": [
    {
     "name": "stdout",
     "output_type": "stream",
     "text": [
      "2/2 [==============================] - 0s 8ms/step - loss: 1.7661 - accuracy: 0.7368\n"
     ]
    },
    {
     "data": {
      "text/plain": [
       "[1.7660831212997437, 0.7368420958518982]"
      ]
     },
     "execution_count": 1729,
     "metadata": {},
     "output_type": "execute_result"
    }
   ],
   "source": [
    "model.evaluate(x_test, y_test)"
   ]
  },
  {
   "cell_type": "code",
   "execution_count": 1730,
   "metadata": {},
   "outputs": [
    {
     "data": {
      "image/png": "[encoded data removed]",
      "text/plain": [
       "<Figure size 864x432 with 2 Axes>"
      ]
     },
     "metadata": {
      "needs_background": "light"
     },
     "output_type": "display_data"
    }
   ],
   "source": [
    "plot_loss_accuracy(history)"
   ]
  },
  {
   "attachments": {},
   "cell_type": "markdown",
   "metadata": {},
   "source": [
    "# LSTM biderectional"
   ]
  },
  {
   "attachments": {},
   "cell_type": "markdown",
   "metadata": {},
   "source": [
    "## Create model 2"
   ]
  },
  {
   "cell_type": "code",
   "execution_count": 1731,
   "metadata": {},
   "outputs": [],
   "source": [
    "model_2 = Sequential([\n",
    "    Embedding(vocab_size, 32, input_length=max_length),\n",
    "    Bidirectional(CuDNNLSTM(128, return_sequences=True)),\n",
    "    Dropout(0.25),\n",
    "\n",
    "    Bidirectional(CuDNNLSTM(128)),\n",
    "    Dropout(0.25),\n",
    "\n",
    "    Dense(128, activation='relu'),\n",
    "    Dropout(0.5),\n",
    "    Dense(num_classes,activation='softmax')\n",
    "])"
   ]
  },
  {
   "cell_type": "code",
   "execution_count": 1732,
   "metadata": {},
   "outputs": [],
   "source": [
    "model_2.compile(loss='categorical_crossentropy',\n",
    "              optimizer=rmsprop,\n",
    "              metrics=['accuracy'])"
   ]
  },
  {
   "cell_type": "code",
   "execution_count": 1733,
   "metadata": {},
   "outputs": [
    {
     "name": "stdout",
     "output_type": "stream",
     "text": [
      "Model: \"sequential_145\"\n",
      "_________________________________________________________________\n",
      " Layer (type)                Output Shape              Param #   \n",
      "=================================================================\n",
      " embedding_147 (Embedding)   (None, 51, 32)            66496     \n",
      "                                                                 \n",
      " bidirectional_148 (Bidirect  (None, 51, 256)          165888    \n",
      " ional)                                                          \n",
      "                                                                 \n",
      " dropout_382 (Dropout)       (None, 51, 256)           0         \n",
      "                                                                 \n",
      " bidirectional_149 (Bidirect  (None, 256)              395264    \n",
      " ional)                                                          \n",
      "                                                                 \n",
      " dropout_383 (Dropout)       (None, 256)               0         \n",
      "                                                                 \n",
      " dense_294 (Dense)           (None, 128)               32896     \n",
      "                                                                 \n",
      " dropout_384 (Dropout)       (None, 128)               0         \n",
      "                                                                 \n",
      " dense_295 (Dense)           (None, 2)                 258       \n",
      "                                                                 \n",
      "=================================================================\n",
      "Total params: 660,802\n",
      "Trainable params: 660,802\n",
      "Non-trainable params: 0\n",
      "_________________________________________________________________\n"
     ]
    }
   ],
   "source": [
    "model_2.summary()"
   ]
  },
  {
   "attachments": {},
   "cell_type": "markdown",
   "metadata": {},
   "source": [
    "## train model_2"
   ]
  },
  {
   "cell_type": "code",
   "execution_count": 1734,
   "metadata": {},
   "outputs": [
    {
     "name": "stdout",
     "output_type": "stream",
     "text": [
      "Epoch 1/30\n",
      "22/22 [==============================] - 4s 65ms/step - loss: 0.7039 - accuracy: 0.5421 - val_loss: 0.7248 - val_accuracy: 0.4737\n",
      "Epoch 2/30\n",
      "22/22 [==============================] - 1s 26ms/step - loss: 0.7068 - accuracy: 0.5000 - val_loss: 0.6989 - val_accuracy: 0.4737\n",
      "Epoch 3/30\n",
      "22/22 [==============================] - 1s 25ms/step - loss: 0.6913 - accuracy: 0.5374 - val_loss: 0.7328 - val_accuracy: 0.5263\n",
      "Epoch 4/30\n",
      "22/22 [==============================] - 1s 25ms/step - loss: 0.7420 - accuracy: 0.5981 - val_loss: 0.7621 - val_accuracy: 0.5263\n",
      "Epoch 5/30\n",
      "22/22 [==============================] - 1s 25ms/step - loss: 0.3458 - accuracy: 0.8738 - val_loss: 0.6004 - val_accuracy: 0.8158\n",
      "Epoch 6/30\n",
      "22/22 [==============================] - 1s 25ms/step - loss: 0.1015 - accuracy: 0.9766 - val_loss: 1.1985 - val_accuracy: 0.6579\n",
      "Epoch 7/30\n",
      "22/22 [==============================] - 1s 26ms/step - loss: 0.0880 - accuracy: 0.9720 - val_loss: 0.7291 - val_accuracy: 0.7368\n",
      "Epoch 8/30\n",
      "22/22 [==============================] - 1s 25ms/step - loss: 0.0714 - accuracy: 0.9720 - val_loss: 2.1185 - val_accuracy: 0.5526\n",
      "Epoch 9/30\n",
      "22/22 [==============================] - 1s 25ms/step - loss: 0.2639 - accuracy: 0.9579 - val_loss: 0.8539 - val_accuracy: 0.6579\n",
      "Epoch 10/30\n",
      "22/22 [==============================] - 1s 25ms/step - loss: 0.0588 - accuracy: 0.9860 - val_loss: 0.6370 - val_accuracy: 0.8158\n",
      "Epoch 11/30\n",
      "22/22 [==============================] - 1s 25ms/step - loss: 0.0548 - accuracy: 0.9766 - val_loss: 1.0498 - val_accuracy: 0.7105\n",
      "Epoch 12/30\n",
      "22/22 [==============================] - 1s 25ms/step - loss: 0.0107 - accuracy: 0.9953 - val_loss: 1.1397 - val_accuracy: 0.8158\n",
      "Epoch 13/30\n",
      "22/22 [==============================] - 1s 26ms/step - loss: 0.0013 - accuracy: 1.0000 - val_loss: 2.7299 - val_accuracy: 0.6842\n",
      "Epoch 14/30\n",
      "22/22 [==============================] - 1s 27ms/step - loss: 0.0652 - accuracy: 0.9953 - val_loss: 2.2534 - val_accuracy: 0.6053\n",
      "Epoch 15/30\n",
      "22/22 [==============================] - 1s 27ms/step - loss: 0.1160 - accuracy: 0.9813 - val_loss: 1.9007 - val_accuracy: 0.5789\n",
      "Epoch 16/30\n",
      "22/22 [==============================] - 1s 28ms/step - loss: 0.0018 - accuracy: 1.0000 - val_loss: 2.0082 - val_accuracy: 0.6316\n",
      "Epoch 17/30\n",
      "22/22 [==============================] - 1s 24ms/step - loss: 1.0529e-04 - accuracy: 1.0000 - val_loss: 2.4379 - val_accuracy: 0.6316\n",
      "Epoch 18/30\n",
      "22/22 [==============================] - 1s 24ms/step - loss: 3.3095e-05 - accuracy: 1.0000 - val_loss: 2.8508 - val_accuracy: 0.6316\n",
      "Epoch 19/30\n",
      "22/22 [==============================] - 1s 24ms/step - loss: 0.0072 - accuracy: 0.9953 - val_loss: 5.6738 - val_accuracy: 0.7105\n",
      "Epoch 20/30\n",
      "22/22 [==============================] - 1s 24ms/step - loss: 0.2112 - accuracy: 0.9860 - val_loss: 2.4419 - val_accuracy: 0.6842\n",
      "Epoch 21/30\n",
      "22/22 [==============================] - 1s 24ms/step - loss: 0.0334 - accuracy: 0.9953 - val_loss: 3.6241 - val_accuracy: 0.7368\n",
      "Epoch 22/30\n",
      "22/22 [==============================] - 1s 24ms/step - loss: 0.0216 - accuracy: 0.9953 - val_loss: 2.9698 - val_accuracy: 0.6579\n",
      "Epoch 23/30\n",
      "22/22 [==============================] - 1s 24ms/step - loss: 0.1615 - accuracy: 0.9813 - val_loss: 3.2880 - val_accuracy: 0.7105\n",
      "Epoch 24/30\n",
      "22/22 [==============================] - 1s 24ms/step - loss: 8.7460e-05 - accuracy: 1.0000 - val_loss: 3.3620 - val_accuracy: 0.7105\n",
      "Epoch 25/30\n",
      "22/22 [==============================] - 1s 24ms/step - loss: 1.7761e-05 - accuracy: 1.0000 - val_loss: 3.4843 - val_accuracy: 0.7105\n",
      "Epoch 26/30\n",
      "22/22 [==============================] - 1s 24ms/step - loss: 1.2436e-05 - accuracy: 1.0000 - val_loss: 3.6450 - val_accuracy: 0.7105\n",
      "Epoch 27/30\n",
      "22/22 [==============================] - 1s 25ms/step - loss: 4.0514e-06 - accuracy: 1.0000 - val_loss: 3.7617 - val_accuracy: 0.7105\n",
      "Epoch 28/30\n",
      "22/22 [==============================] - 1s 25ms/step - loss: 6.6370e-06 - accuracy: 1.0000 - val_loss: 4.4486 - val_accuracy: 0.6842\n",
      "Epoch 29/30\n",
      "22/22 [==============================] - 1s 24ms/step - loss: 5.7318e-07 - accuracy: 1.0000 - val_loss: 4.7925 - val_accuracy: 0.6842\n",
      "Epoch 30/30\n",
      "22/22 [==============================] - 1s 24ms/step - loss: 3.4202e-07 - accuracy: 1.0000 - val_loss: 4.8308 - val_accuracy: 0.7105\n"
     ]
    }
   ],
   "source": [
    "history_2 = model_2.fit(x_train, y_train, batch_size=batch_size, epochs=epochs, validation_data=(x_test, y_test), shuffle=True,)"
   ]
  },
  {
   "cell_type": "code",
   "execution_count": 1735,
   "metadata": {},
   "outputs": [
    {
     "name": "stdout",
     "output_type": "stream",
     "text": [
      "2/2 [==============================] - 0s 10ms/step - loss: 4.8308 - accuracy: 0.7105\n"
     ]
    },
    {
     "data": {
      "text/plain": [
       "[4.830806732177734, 0.7105262875556946]"
      ]
     },
     "execution_count": 1735,
     "metadata": {},
     "output_type": "execute_result"
    }
   ],
   "source": [
    "model_2.evaluate(x_test, y_test)"
   ]
  },
  {
   "cell_type": "code",
   "execution_count": 1736,
   "metadata": {},
   "outputs": [
    {
     "data": {
      "image/png": "[encoded data removed]",
      "text/plain": [
       "<Figure size 864x432 with 2 Axes>"
      ]
     },
     "metadata": {
      "needs_background": "light"
     },
     "output_type": "display_data"
    }
   ],
   "source": [
    "plot_loss_accuracy(history_2)"
   ]
  },
  {
   "attachments": {},
   "cell_type": "markdown",
   "metadata": {},
   "source": [
    "# Performance metrics"
   ]
  },
  {
   "cell_type": "code",
   "execution_count": 1738,
   "metadata": {},
   "outputs": [
    {
     "name": "stdout",
     "output_type": "stream",
     "text": [
      "2/2 [==============================] - 1s 46ms/step\n",
      "2/2 [==============================] - 0s 7ms/step\n"
     ]
    }
   ],
   "source": [
    "pred_model_1 = model.predict(x_test)\n",
    "pred_model_2 = model_2.predict(x_test)"
   ]
  },
  {
   "cell_type": "code",
   "execution_count": 1740,
   "metadata": {},
   "outputs": [],
   "source": [
    "pred_model_1 = pred_model_1.argmax(1)\n",
    "pred_model_2 = pred_model_2.argmax(1)"
   ]
  },
  {
   "attachments": {},
   "cell_type": "markdown",
   "metadata": {},
   "source": [
    "### 1. Recall score"
   ]
  },
  {
   "cell_type": "code",
   "execution_count": 1756,
   "metadata": {},
   "outputs": [
    {
     "name": "stdout",
     "output_type": "stream",
     "text": [
      "recall score model 1 :  0.7368421052631579\n",
      "recall score model 2 :  0.7105263157894737\n"
     ]
    }
   ],
   "source": [
    "from sklearn.metrics import recall_score\n",
    "print('recall score model 1 : ',recall_score(y_test.argmax(1), pred_model_1, average='weighted'))\n",
    "print('recall score model 2 : ',recall_score(y_test.argmax(1), pred_model_2, average='weighted'))"
   ]
  },
  {
   "attachments": {},
   "cell_type": "markdown",
   "metadata": {},
   "source": [
    "### 2. F1 score"
   ]
  },
  {
   "cell_type": "code",
   "execution_count": 1758,
   "metadata": {},
   "outputs": [
    {
     "name": "stdout",
     "output_type": "stream",
     "text": [
      "recall score model 1 :  0.7361111111111112\n",
      "recall score model 2 :  0.7087108013937282\n"
     ]
    }
   ],
   "source": [
    "from sklearn.metrics import f1_score\n",
    "print('recall score model 1 : ',f1_score(y_test.argmax(1), pred_model_1, average='macro'))\n",
    "print('recall score model 2 : ',f1_score(y_test.argmax(1), pred_model_2, average='macro'))"
   ]
  },
  {
   "cell_type": "code",
   "execution_count": null,
   "metadata": {},
   "outputs": [],
   "source": []
  }
 ],
 "metadata": {
  "kernelspec": {
   "display_name": "envtf",
   "language": "python",
   "name": "python3"
  },
  "language_info": {
   "codemirror_mode": {
    "name": "ipython",
    "version": 3
   },
   "file_extension": ".py",
   "mimetype": "text/x-python",
   "name": "python",
   "nbconvert_exporter": "python",
   "pygments_lexer": "ipython3",
   "version": "3.9.15"
  },
  "orig_nbformat": 4,
  "vscode": {
   "interpreter": {
    "hash": "82a4e1d51be42dd82f66b8e967c2ae005e6d3413f2cbc542c5d6254e2198e265"
   }
  }
 },
 "nbformat": 4,
 "nbformat_minor": 2
}
